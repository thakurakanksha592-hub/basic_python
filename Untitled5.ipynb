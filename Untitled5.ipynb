{
 "cells": [
  {
   "cell_type": "code",
   "execution_count": 2,
   "id": "df1cf7d4-5fe8-4b5d-8b25-37545397adc3",
   "metadata": {},
   "outputs": [
    {
     "name": "stdout",
     "output_type": "stream",
     "text": [
      "['False', 'None', 'True', 'and', 'as', 'assert', 'async', 'await', 'break', 'class', 'continue', 'def', 'del', 'elif', 'else', 'except', 'finally', 'for', 'from', 'global', 'if', 'import', 'in', 'is', 'lambda', 'nonlocal', 'not', 'or', 'pass', 'raise', 'return', 'try', 'while', 'with', 'yield']\n"
     ]
    }
   ],
   "source": [
    "import keyword\n",
    "print(keyword.kwlist)"
   ]
  },
  {
   "cell_type": "raw",
   "id": "a9f43b9c-453b-45e2-8889-5daeff4baf1c",
   "metadata": {},
   "source": []
  },
  {
   "cell_type": "code",
   "execution_count": 3,
   "id": "dc1091bd-93b8-4768-9df7-2eca71fec288",
   "metadata": {},
   "outputs": [
    {
     "name": "stdout",
     "output_type": "stream",
     "text": [
      "True\n"
     ]
    }
   ],
   "source": [
    "import keyword\n",
    "print(keyword.iskeyword('and'))"
   ]
  },
  {
   "cell_type": "code",
   "execution_count": 4,
   "id": "79679595-a63a-42ba-8039-ba54f3f9c0dc",
   "metadata": {},
   "outputs": [
    {
     "name": "stdout",
     "output_type": "stream",
     "text": [
      "True\n"
     ]
    }
   ],
   "source": [
    "import keyword\n",
    "print(keyword.iskeyword('if'))"
   ]
  },
  {
   "cell_type": "code",
   "execution_count": 5,
   "id": "c1b2d34c-33cd-41d2-92a0-ee891d9f5c4d",
   "metadata": {},
   "outputs": [
    {
     "name": "stdout",
     "output_type": "stream",
     "text": [
      "False\n"
     ]
    }
   ],
   "source": [
    "import keyword \n",
    "print(keyword.iskeyword('akanksha'))"
   ]
  },
  {
   "cell_type": "code",
   "execution_count": 8,
   "id": "07fd3d19-9cfb-4117-a035-d690a1c42d72",
   "metadata": {},
   "outputs": [
    {
     "name": "stdin",
     "output_type": "stream",
     "text": [
      "enter number: 7\n",
      "enter number: 6\n"
     ]
    },
    {
     "name": "stdout",
     "output_type": "stream",
     "text": [
      "42 result:\n"
     ]
    }
   ],
   "source": [
    "d=int(input(\"enter number:\"))\n",
    "a= int(input(\"enter number:\"))\n",
    "g=d*a\n",
    "print(g,\"result:\")"
   ]
  },
  {
   "cell_type": "code",
   "execution_count": 9,
   "id": "89dc9e1c-8603-4f9f-9e86-05b779d70d89",
   "metadata": {},
   "outputs": [
    {
     "name": "stdin",
     "output_type": "stream",
     "text": [
      "enter number: 8\n",
      "enter number: 14\n"
     ]
    },
    {
     "name": "stdout",
     "output_type": "stream",
     "text": [
      "22 result:\n"
     ]
    }
   ],
   "source": [
    "q=int(input(\"enter number:\"))\n",
    "s=int(input(\"enter number:\"))\n",
    "f=q+s\n",
    "print(f,\"result:\")\n"
   ]
  },
  {
   "cell_type": "code",
   "execution_count": 11,
   "id": "6678676d-4bd0-49a0-af14-3b8971992a60",
   "metadata": {},
   "outputs": [
    {
     "name": "stdin",
     "output_type": "stream",
     "text": [
      "enter number: 8\n",
      "enter number: 6\n"
     ]
    },
    {
     "name": "stdout",
     "output_type": "stream",
     "text": [
      "2 result:\n"
     ]
    }
   ],
   "source": [
    "w=int(input(\"enter number:\"))\n",
    "var=int(input(\"enter number:\"))\n",
    "u=w-var\n",
    "print(u,\"result:\")\n"
   ]
  },
  {
   "cell_type": "code",
   "execution_count": 12,
   "id": "7d01da49-0cae-49d7-b31f-7b992723ce0e",
   "metadata": {},
   "outputs": [
    {
     "data": {
      "text/plain": [
       "140708902237640"
      ]
     },
     "execution_count": 12,
     "metadata": {},
     "output_type": "execute_result"
    }
   ],
   "source": [
    "a=b=c=d=18\n",
    "id(a)"
   ]
  },
  {
   "cell_type": "code",
   "execution_count": 13,
   "id": "7ba66a4e-000d-4550-9698-a20184e1df7f",
   "metadata": {},
   "outputs": [
    {
     "data": {
      "text/plain": [
       "140708902237640"
      ]
     },
     "execution_count": 13,
     "metadata": {},
     "output_type": "execute_result"
    }
   ],
   "source": [
    "id(b)"
   ]
  },
  {
   "cell_type": "code",
   "execution_count": 14,
   "id": "6cfaa65c-89b3-48d3-9de6-4014e7fc8850",
   "metadata": {},
   "outputs": [
    {
     "data": {
      "text/plain": [
       "140708902237640"
      ]
     },
     "execution_count": 14,
     "metadata": {},
     "output_type": "execute_result"
    }
   ],
   "source": [
    "id(c)"
   ]
  },
  {
   "cell_type": "code",
   "execution_count": 15,
   "id": "6363850a-95a8-44f6-9a46-dc9e7d3d854b",
   "metadata": {},
   "outputs": [
    {
     "data": {
      "text/plain": [
       "140708902239144"
      ]
     },
     "execution_count": 15,
     "metadata": {},
     "output_type": "execute_result"
    }
   ],
   "source": [
    "b=g=65\n",
    "id(b)"
   ]
  },
  {
   "cell_type": "code",
   "execution_count": null,
   "id": "d809a7fd-9bd8-4b9a-bbf7-973bc794709f",
   "metadata": {},
   "outputs": [],
   "source": []
  }
 ],
 "metadata": {
  "kernelspec": {
   "display_name": "Python 3 (ipykernel)",
   "language": "python",
   "name": "python3"
  },
  "language_info": {
   "codemirror_mode": {
    "name": "ipython",
    "version": 3
   },
   "file_extension": ".py",
   "mimetype": "text/x-python",
   "name": "python",
   "nbconvert_exporter": "python",
   "pygments_lexer": "ipython3",
   "version": "3.13.6"
  }
 },
 "nbformat": 4,
 "nbformat_minor": 5
}
