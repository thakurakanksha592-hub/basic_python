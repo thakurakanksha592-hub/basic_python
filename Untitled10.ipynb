{
 "cells": [
  {
   "cell_type": "code",
   "execution_count": 1,
   "id": "b2ef9411-6250-4a4f-831d-df5de8099eef",
   "metadata": {},
   "outputs": [
    {
     "name": "stdout",
     "output_type": "stream",
     "text": [
      "['apple', 'blackcurrant', 'cherry']\n"
     ]
    }
   ],
   "source": [
    "a = [\"apple\", \"banana\", \"cherry\"]\n",
    "a[1] = \"blackcurrant\"\n",
    "print(a)"
   ]
  },
  {
   "cell_type": "code",
   "execution_count": 2,
   "id": "e9e0292a-f873-4ec8-b4c3-07dadbb7ec96",
   "metadata": {},
   "outputs": [
    {
     "name": "stdout",
     "output_type": "stream",
     "text": [
      "['apple', 'cherry']\n"
     ]
    }
   ],
   "source": [
    "d = [ \"apple\" , \"banana\" , \"cherry\"]\n",
    "a.pop(1)\n",
    "print(a)"
   ]
  },
  {
   "cell_type": "code",
   "execution_count": 3,
   "id": "359993b6-b3ae-4048-96ba-a117cfc65e8a",
   "metadata": {},
   "outputs": [
    {
     "name": "stdout",
     "output_type": "stream",
     "text": [
      "e is not greater than s\n"
     ]
    }
   ],
   "source": [
    "s = 200\n",
    "e = 50\n",
    "if e > s:\n",
    "    print(\"e is greater than s\")\n",
    "else:\n",
    "    print(\"e is not greater than s\")"
   ]
  },
  {
   "cell_type": "code",
   "execution_count": 4,
   "id": "9093c7ff-fc6e-4d57-ab94-87bf6dcfd51c",
   "metadata": {},
   "outputs": [
    {
     "name": "stdout",
     "output_type": "stream",
     "text": [
      "w is greater than h\n"
     ]
    }
   ],
   "source": [
    "w = 3667\n",
    "h = 73\n",
    "if w > h:\n",
    "    print(\"w is greater than h\")\n",
    "else:\n",
    "    print(\"w is not greater than h\")"
   ]
  },
  {
   "cell_type": "code",
   "execution_count": null,
   "id": "e56e863d-7b7b-4e06-bc0d-33493d7b375c",
   "metadata": {},
   "outputs": [],
   "source": []
  }
 ],
 "metadata": {
  "kernelspec": {
   "display_name": "Python 3 (ipykernel)",
   "language": "python",
   "name": "python3"
  },
  "language_info": {
   "codemirror_mode": {
    "name": "ipython",
    "version": 3
   },
   "file_extension": ".py",
   "mimetype": "text/x-python",
   "name": "python",
   "nbconvert_exporter": "python",
   "pygments_lexer": "ipython3",
   "version": "3.13.6"
  }
 },
 "nbformat": 4,
 "nbformat_minor": 5
}
