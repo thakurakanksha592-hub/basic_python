{
 "cells": [
  {
   "cell_type": "code",
   "execution_count": 1,
   "id": "3bd12fdd-5ac5-4a7e-99b4-0ffebc5b9157",
   "metadata": {},
   "outputs": [
    {
     "name": "stdin",
     "output_type": "stream",
     "text": [
      " 86\n"
     ]
    },
    {
     "name": "stdout",
     "output_type": "stream",
     "text": [
      "B\n"
     ]
    }
   ],
   "source": [
    "marks = int(input())\n",
    "\n",
    "\n",
    "# Complete the below code...\n",
    "match marks:\n",
    " case m if m>=90:\n",
    "\t print(\"A\")\n",
    " case m if 80 <= m <= 89:\n",
    "\t print(\"B\")\n",
    " case m if 70 <= m <= 79:\n",
    "\t print(\"C\")\n",
    " case m if 60 <= m <= 69:\n",
    "\t print(\"D\")\n",
    " case m if m < 60:\n",
    "\t print(\"F\")\n"
   ]
  },
  {
   "cell_type": "code",
   "execution_count": 2,
   "id": "09cee802-c7cc-4993-b962-989a46da6450",
   "metadata": {},
   "outputs": [
    {
     "name": "stdin",
     "output_type": "stream",
     "text": [
      " wednesday\n"
     ]
    },
    {
     "name": "stdout",
     "output_type": "stream",
     "text": [
      " it's a weekday\n"
     ]
    }
   ],
   "source": [
    "day = input()\n",
    "match day:\n",
    "    case \"monday\"| \"tuesday\"| \"wednesday\"| \"thursday\"| \"friday\":\n",
    "        print(\" it's a weekday\")\n",
    "    case \"saturday\"| \"sunday\":\n",
    "        print(\"it's the weekend\")"
   ]
  },
  {
   "cell_type": "code",
   "execution_count": 3,
   "id": "1739a935-d5d2-4e73-bad1-0f93a17a3bdf",
   "metadata": {},
   "outputs": [
    {
     "name": "stdin",
     "output_type": "stream",
     "text": [
      " green\n"
     ]
    },
    {
     "name": "stdout",
     "output_type": "stream",
     "text": [
      "go\n"
     ]
    }
   ],
   "source": [
    "color = input()\n",
    "match color:\n",
    "    case \"red\":\n",
    "        print(\"stop\")\n",
    "    case \"yellow\":\n",
    "        print(\"slow down\")\n",
    "    case \"green\":\n",
    "        print(\"go\")"
   ]
  },
  {
   "cell_type": "code",
   "execution_count": null,
   "id": "f6a429f6-6e29-4a83-a7a4-2f69c49a443d",
   "metadata": {},
   "outputs": [],
   "source": []
  }
 ],
 "metadata": {
  "kernelspec": {
   "display_name": "Python 3 (ipykernel)",
   "language": "python",
   "name": "python3"
  },
  "language_info": {
   "codemirror_mode": {
    "name": "ipython",
    "version": 3
   },
   "file_extension": ".py",
   "mimetype": "text/x-python",
   "name": "python",
   "nbconvert_exporter": "python",
   "pygments_lexer": "ipython3",
   "version": "3.13.6"
  }
 },
 "nbformat": 4,
 "nbformat_minor": 5
}
