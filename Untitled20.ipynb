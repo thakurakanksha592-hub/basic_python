{
 "cells": [
  {
   "cell_type": "code",
   "execution_count": 6,
   "id": "9c0f776c-a275-4dc8-a3ed-b9917c0d4776",
   "metadata": {},
   "outputs": [
    {
     "name": "stdout",
     "output_type": "stream",
     "text": [
      "Akanksha thakur 18 5.4 True\n"
     ]
    }
   ],
   "source": [
    "name = \"Akanksha thakur\"\n",
    "age = 18\n",
    "heigt = 5.4\n",
    "is_student = True\n",
    "print(name,age,heigt,is_student)"
   ]
  },
  {
   "cell_type": "code",
   "execution_count": 8,
   "id": "23e88790-3a59-4816-ada5-410c0f8e246b",
   "metadata": {},
   "outputs": [
    {
     "name": "stdout",
     "output_type": "stream",
     "text": [
      "even number\n"
     ]
    }
   ],
   "source": [
    "num = 10\n",
    "if num %2 ==0:\n",
    "    print(\"even number\")\n",
    "else:\n",
    "    print(\"odd number\")"
   ]
  },
  {
   "cell_type": "code",
   "execution_count": 9,
   "id": "ddf5e340-037f-4e2d-a19c-32164261d75e",
   "metadata": {},
   "outputs": [
    {
     "name": "stdout",
     "output_type": "stream",
     "text": [
      "iteration: 0\n",
      "iteration: 1\n",
      "iteration: 2\n",
      "iteration: 3\n",
      "iteration: 4\n"
     ]
    }
   ],
   "source": [
    "for i in range(5):\n",
    "    print(\"iteration:\",i)"
   ]
  },
  {
   "cell_type": "code",
   "execution_count": 12,
   "id": "2e2ee76a-562a-44c1-8fd7-9630889ed17d",
   "metadata": {},
   "outputs": [
    {
     "name": "stdout",
     "output_type": "stream",
     "text": [
      "count: 1\n",
      "count: 2\n",
      "count: 3\n",
      "count: 4\n",
      "count: 5\n"
     ]
    }
   ],
   "source": [
    "count = 1\n",
    "while count<= 5:\n",
    "    print(\"count:\",count)\n",
    "    count += 1"
   ]
  },
  {
   "cell_type": "raw",
   "id": "be33346b-037f-4e48-ab12-32f462daec83",
   "metadata": {},
   "source": []
  }
 ],
 "metadata": {
  "kernelspec": {
   "display_name": "Python 3 (ipykernel)",
   "language": "python",
   "name": "python3"
  },
  "language_info": {
   "codemirror_mode": {
    "name": "ipython",
    "version": 3
   },
   "file_extension": ".py",
   "mimetype": "text/x-python",
   "name": "python",
   "nbconvert_exporter": "python",
   "pygments_lexer": "ipython3",
   "version": "3.13.6"
  }
 },
 "nbformat": 4,
 "nbformat_minor": 5
}
