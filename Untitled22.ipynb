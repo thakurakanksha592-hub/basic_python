{
 "cells": [
  {
   "cell_type": "code",
   "execution_count": 2,
   "id": "9985d8bb-8d75-4ebc-9ff1-eb02635d3ddb",
   "metadata": {},
   "outputs": [
    {
     "name": "stdin",
     "output_type": "stream",
     "text": [
      "Enter character:  6\n",
      "Enter an integer:  89\n"
     ]
    },
    {
     "name": "stdout",
     "output_type": "stream",
     "text": [
      "54\n",
      "0x59\n",
      "0o131\n",
      "(89+0j)\n"
     ]
    }
   ],
   "source": [
    "a = input(\"Enter character: \")\n",
    "b = int(input(\"Enter an integer: \"))\n",
    "\n",
    "# Calculate and print the Unicode code point of 'a'\n",
    "print(ord(a))\n",
    "# Calculate and print the hexadecimal representation of 'b'\n",
    "print(hex(b))\n",
    "# Calculate and print the octal representation of 'b'\n",
    "print(oct(b))\n",
    "# Calculate and print the complex number representation of 'b' and '0'\n",
    "print(complex(0+b))\n"
   ]
  },
  {
   "cell_type": "code",
   "execution_count": null,
   "id": "d1bbe2bf-b687-4a4e-b319-9abe537c5496",
   "metadata": {},
   "outputs": [],
   "source": []
  }
 ],
 "metadata": {
  "kernelspec": {
   "display_name": "Python 3 (ipykernel)",
   "language": "python",
   "name": "python3"
  },
  "language_info": {
   "codemirror_mode": {
    "name": "ipython",
    "version": 3
   },
   "file_extension": ".py",
   "mimetype": "text/x-python",
   "name": "python",
   "nbconvert_exporter": "python",
   "pygments_lexer": "ipython3",
   "version": "3.13.6"
  }
 },
 "nbformat": 4,
 "nbformat_minor": 5
}
