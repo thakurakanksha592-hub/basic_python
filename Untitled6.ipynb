{
 "cells": [
  {
   "cell_type": "code",
   "execution_count": 1,
   "id": "d19dafdc-4b37-4c89-8f12-de83896982a6",
   "metadata": {},
   "outputs": [
    {
     "name": "stdout",
     "output_type": "stream",
     "text": [
      "welcome to python\n"
     ]
    },
    {
     "name": "stdin",
     "output_type": "stream",
     "text": [
      " 4\n"
     ]
    },
    {
     "name": "stdout",
     "output_type": "stream",
     "text": [
      "9\n"
     ]
    }
   ],
   "source": [
    "message =\"welcome to python\"\n",
    "print(message)\n",
    "number = int(input())\n",
    "print(number+5)\n"
   ]
  },
  {
   "cell_type": "code",
   "execution_count": 4,
   "id": "fdc33114-d14b-44f2-a37b-14ddabc723eb",
   "metadata": {},
   "outputs": [
    {
     "name": "stdin",
     "output_type": "stream",
     "text": [
      "enter a number 6\n",
      "enter a number 8\n"
     ]
    },
    {
     "name": "stdout",
     "output_type": "stream",
     "text": [
      "-2\n"
     ]
    }
   ],
   "source": [
    "a = int(input(\"enter a number\"))\n",
    "s = int(input(\"enter a number\"))\n",
    "t =a-+s\n",
    "print(t)\n"
   ]
  },
  {
   "cell_type": "code",
   "execution_count": 11,
   "id": "1d955311-c5d1-4b28-a241-dbec1d611984",
   "metadata": {},
   "outputs": [
    {
     "name": "stdin",
     "output_type": "stream",
     "text": [
      "enter a number 9\n",
      "enter a number 6\n"
     ]
    },
    {
     "name": "stdout",
     "output_type": "stream",
     "text": [
      "54\n"
     ]
    }
   ],
   "source": [
    "d = int(input(\"enter a number\"))\n",
    "f = int(input(\"enter a number\"))\n",
    "g = d*+f\n",
    "print(g)"
   ]
  },
  {
   "cell_type": "code",
   "execution_count": 14,
   "id": "8ecee064-da63-4898-bc61-74905460ff79",
   "metadata": {},
   "outputs": [
    {
     "name": "stdin",
     "output_type": "stream",
     "text": [
      "enter a number 2\n"
     ]
    }
   ],
   "source": [
    "x = int(input(\"enter a number\"))\n",
    "x += 7"
   ]
  },
  {
   "cell_type": "code",
   "execution_count": null,
   "id": "31a52691-357e-4456-9b2c-f9c2cb66cf30",
   "metadata": {},
   "outputs": [],
   "source": []
  }
 ],
 "metadata": {
  "kernelspec": {
   "display_name": "Python 3 (ipykernel)",
   "language": "python",
   "name": "python3"
  },
  "language_info": {
   "codemirror_mode": {
    "name": "ipython",
    "version": 3
   },
   "file_extension": ".py",
   "mimetype": "text/x-python",
   "name": "python",
   "nbconvert_exporter": "python",
   "pygments_lexer": "ipython3",
   "version": "3.13.6"
  }
 },
 "nbformat": 4,
 "nbformat_minor": 5
}
