{
 "cells": [
  {
   "cell_type": "code",
   "execution_count": 2,
   "id": "085a1e1e-9de8-41e4-b9d8-9df1a36f9fa3",
   "metadata": {},
   "outputs": [
    {
     "name": "stdout",
     "output_type": "stream",
     "text": [
      "Hello,rahul! you are30years old. \n"
     ]
    }
   ],
   "source": [
    "def greet(name, age):\n",
    "    print(f\"Hello,{name}! you are{age}years old. \")\n",
    "greet(age = 30, name = \"rahul\")"
   ]
  },
  {
   "cell_type": "code",
   "execution_count": 3,
   "id": "63796dbf-ef35-4332-8563-3079f7886c5a",
   "metadata": {},
   "outputs": [
    {
     "name": "stdout",
     "output_type": "stream",
     "text": [
      "Hello, charlie! you are 40 years old.\n"
     ]
    }
   ],
   "source": [
    "def greet(name, age):\n",
    "    print(f\"Hello, {name}! you are {age} years old.\")\n",
    "greet(\"charlie\" , age = 40)"
   ]
  },
  {
   "cell_type": "code",
   "execution_count": 4,
   "id": "114a4ebb-117c-4f9e-b0e1-aef1fcb5a53b",
   "metadata": {},
   "outputs": [
    {
     "name": "stdout",
     "output_type": "stream",
     "text": [
      "9\n"
     ]
    }
   ],
   "source": [
    "def add (a,b):\n",
    "    return(a+b)\n",
    "result = add(5,4)\n",
    "print(result)"
   ]
  },
  {
   "cell_type": "code",
   "execution_count": 6,
   "id": "478e87f4-95a9-4040-8ea9-f993046d20a8",
   "metadata": {},
   "outputs": [
    {
     "name": "stdout",
     "output_type": "stream",
     "text": [
      "hello, anuj\n",
      "hello, priya\n",
      "hello, riya\n"
     ]
    }
   ],
   "source": [
    "def greet(name):\n",
    "    print(\"hello,\" + name)\n",
    "greet(\" anuj\")\n",
    "greet(\" priya\")\n",
    "greet(\" riya\")"
   ]
  },
  {
   "cell_type": "code",
   "execution_count": null,
   "id": "e2097e60-91d9-4b20-a12b-1e3f0c3e0c3c",
   "metadata": {},
   "outputs": [],
   "source": []
  }
 ],
 "metadata": {
  "kernelspec": {
   "display_name": "Python 3 (ipykernel)",
   "language": "python",
   "name": "python3"
  },
  "language_info": {
   "codemirror_mode": {
    "name": "ipython",
    "version": 3
   },
   "file_extension": ".py",
   "mimetype": "text/x-python",
   "name": "python",
   "nbconvert_exporter": "python",
   "pygments_lexer": "ipython3",
   "version": "3.13.6"
  }
 },
 "nbformat": 4,
 "nbformat_minor": 5
}
