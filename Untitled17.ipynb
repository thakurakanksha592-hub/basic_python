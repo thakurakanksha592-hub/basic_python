{
 "cells": [
  {
   "cell_type": "code",
   "execution_count": 2,
   "id": "32c2945f-d0d4-4a04-a8a4-9e11677945ea",
   "metadata": {},
   "outputs": [
    {
     "name": "stdout",
     "output_type": "stream",
     "text": [
      "()\n"
     ]
    }
   ],
   "source": [
    "tuple = ()\n",
    "print(tuple)"
   ]
  },
  {
   "cell_type": "markdown",
   "id": "380138ee-8bcb-4b8f-8700-b96b0ff1837b",
   "metadata": {},
   "source": [
    "tuple1 = tuple()\n",
    "print(type(tuple1))"
   ]
  },
  {
   "cell_type": "code",
   "execution_count": 3,
   "id": "467cca44-f3da-4655-b02c-16258d7d97c2",
   "metadata": {},
   "outputs": [
    {
     "name": "stdout",
     "output_type": "stream",
     "text": [
      "<class 'tuple'>\n"
     ]
    }
   ],
   "source": [
    "tuple1  = ()\n",
    "print(type(tuple1))"
   ]
  },
  {
   "cell_type": "code",
   "execution_count": 4,
   "id": "bd9ff734-e7f0-406c-8838-9a9e387dc8f8",
   "metadata": {},
   "outputs": [
    {
     "name": "stdout",
     "output_type": "stream",
     "text": [
      "<class 'int'>\n"
     ]
    }
   ],
   "source": [
    "tuple2 = (1)\n",
    "print(type(tuple2))"
   ]
  },
  {
   "cell_type": "code",
   "execution_count": 5,
   "id": "f394c173-8490-451c-88b0-45e706479d3e",
   "metadata": {},
   "outputs": [
    {
     "name": "stdout",
     "output_type": "stream",
     "text": [
      "<class 'tuple'>\n"
     ]
    }
   ],
   "source": [
    "tuple3 = (3,)\n",
    "print(type(tuple3))"
   ]
  },
  {
   "cell_type": "code",
   "execution_count": 6,
   "id": "48e0011e-cb60-4019-be4a-d47777d73049",
   "metadata": {},
   "outputs": [
    {
     "name": "stdout",
     "output_type": "stream",
     "text": [
      "<class 'dict'>\n"
     ]
    }
   ],
   "source": [
    "mydict = dict()\n",
    "print(type(mydict))"
   ]
  },
  {
   "cell_type": "code",
   "execution_count": 7,
   "id": "ecc4a55a-1114-479b-8966-b247c5bf6b77",
   "metadata": {},
   "outputs": [
    {
     "name": "stdout",
     "output_type": "stream",
     "text": [
      "{'hydrebad': 27, 'chennai': 32, 'mumbai': 40}\n"
     ]
    }
   ],
   "source": [
    "temperature = {\"hydrebad\":27,\"chennai\":32,\"mumbai\":40}\n",
    "print(temperature)"
   ]
  },
  {
   "cell_type": "code",
   "execution_count": 8,
   "id": "acda875a-b5c9-41f9-901d-d1ab421c168c",
   "metadata": {},
   "outputs": [
    {
     "name": "stdout",
     "output_type": "stream",
     "text": [
      "{'name': 'jay', 'number': 514, 'age': 12}\n"
     ]
    }
   ],
   "source": [
    "dict1 = {\"name\":\"jay\",\"number\":514,\"age\":12}\n",
    "print(dict1)"
   ]
  },
  {
   "cell_type": "code",
   "execution_count": 10,
   "id": "b78eab17-601c-4c8b-aa24-87e5850c2a6f",
   "metadata": {},
   "outputs": [
    {
     "name": "stdout",
     "output_type": "stream",
     "text": [
      "12\n",
      "514\n"
     ]
    }
   ],
   "source": [
    "print(dict1['age'])\n",
    "print(dict1['number'])"
   ]
  },
  {
   "cell_type": "code",
   "execution_count": null,
   "id": "b736fce1-1c8e-44df-80c2-abc5972a5af8",
   "metadata": {},
   "outputs": [],
   "source": [
    "\n"
   ]
  }
 ],
 "metadata": {
  "kernelspec": {
   "display_name": "Python 3 (ipykernel)",
   "language": "python",
   "name": "python3"
  },
  "language_info": {
   "codemirror_mode": {
    "name": "ipython",
    "version": 3
   },
   "file_extension": ".py",
   "mimetype": "text/x-python",
   "name": "python",
   "nbconvert_exporter": "python",
   "pygments_lexer": "ipython3",
   "version": "3.13.6"
  }
 },
 "nbformat": 4,
 "nbformat_minor": 5
}
