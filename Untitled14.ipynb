{
 "cells": [
  {
   "cell_type": "markdown",
   "id": "14339f0a-7e0f-4de1-9bc7-bd9301538615",
   "metadata": {},
   "source": []
  },
  {
   "cell_type": "code",
   "execution_count": 1,
   "id": "6ad1cc9b-4773-4c6e-b61b-0f0ad06bcdf7",
   "metadata": {},
   "outputs": [
    {
     "name": "stdout",
     "output_type": "stream",
     "text": [
      "{'apple ', 'banana', 'cherry'}\n"
     ]
    }
   ],
   "source": [
    "fruits = {\"apple \", \"banana\", \"cherry\"}\n",
    "print(fruits)"
   ]
  },
  {
   "cell_type": "code",
   "execution_count": 2,
   "id": "88d10912-14ea-4da5-bd6a-bf689ca913a4",
   "metadata": {},
   "outputs": [
    {
     "name": "stdout",
     "output_type": "stream",
     "text": [
      "set()\n"
     ]
    }
   ],
   "source": [
    "empty_set = set()\n",
    "print(empty_set)"
   ]
  },
  {
   "cell_type": "code",
   "execution_count": 7,
   "id": "65b0ae50-0b7e-4940-9b87-48a7b4a2fb8b",
   "metadata": {},
   "outputs": [
    {
     "name": "stdout",
     "output_type": "stream",
     "text": [
      "union: {1, 2, 3, 4, 5, 6}\n"
     ]
    }
   ],
   "source": [
    "a = {1,2,3,4,5}\n",
    "b = {3,4,5,6}\n",
    "print(\"union:\",a|b)"
   ]
  },
  {
   "cell_type": "code",
   "execution_count": 8,
   "id": "84b7c4c5-ab13-4183-89ef-efc3f76bc79d",
   "metadata": {},
   "outputs": [
    {
     "name": "stdout",
     "output_type": "stream",
     "text": [
      "True\n",
      "False\n"
     ]
    }
   ],
   "source": [
    "A = {10,20,30}\n",
    "print(20 in A)\n",
    "print(40 in A)"
   ]
  },
  {
   "cell_type": "markdown",
   "id": "8c75ab75-b663-4d09-b63c-48e86d696409",
   "metadata": {},
   "source": []
  },
  {
   "cell_type": "raw",
   "id": "b1b02504-8205-4edf-8707-929174d64c54",
   "metadata": {},
   "source": []
  }
 ],
 "metadata": {
  "kernelspec": {
   "display_name": "Python 3 (ipykernel)",
   "language": "python",
   "name": "python3"
  },
  "language_info": {
   "codemirror_mode": {
    "name": "ipython",
    "version": 3
   },
   "file_extension": ".py",
   "mimetype": "text/x-python",
   "name": "python",
   "nbconvert_exporter": "python",
   "pygments_lexer": "ipython3",
   "version": "3.13.6"
  }
 },
 "nbformat": 4,
 "nbformat_minor": 5
}
