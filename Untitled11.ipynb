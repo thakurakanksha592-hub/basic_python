{
 "cells": [
  {
   "cell_type": "code",
   "execution_count": 1,
   "id": "006c42dc-d1ed-447e-99ed-6105b290bb6f",
   "metadata": {},
   "outputs": [
    {
     "name": "stdout",
     "output_type": "stream",
     "text": [
      "<class 'int'>\n"
     ]
    }
   ],
   "source": [
    "a = 5\n",
    "print(type(a))"
   ]
  },
  {
   "cell_type": "code",
   "execution_count": 2,
   "id": "7d927e55-3c29-4821-8ab6-e3ab454fb0b9",
   "metadata": {},
   "outputs": [
    {
     "name": "stdout",
     "output_type": "stream",
     "text": [
      "28\n"
     ]
    }
   ],
   "source": [
    "import sys\n",
    "a = 243\n",
    "print(sys.getsizeof(a))"
   ]
  },
  {
   "cell_type": "code",
   "execution_count": 3,
   "id": "d2b83fcf-2410-49ce-b27b-e6c565866df7",
   "metadata": {},
   "outputs": [
    {
     "name": "stdout",
     "output_type": "stream",
     "text": [
      "28\n"
     ]
    }
   ],
   "source": [
    "import sys\n",
    "d = 1000\n",
    "print(sys.getsizeof(d))"
   ]
  },
  {
   "cell_type": "code",
   "execution_count": 10,
   "id": "1cc1b021-7e3a-4ae6-a69e-aa585009f201",
   "metadata": {},
   "outputs": [
    {
     "name": "stdout",
     "output_type": "stream",
     "text": [
      "False\n"
     ]
    }
   ],
   "source": [
    "import sys\n",
    "e = 256\n",
    "e = 256\n",
    "id(e)\n",
    "id(f)\n",
    "print(e is f)"
   ]
  },
  {
   "cell_type": "code",
   "execution_count": 18,
   "id": "4138691f-06b0-43c5-aafc-3efe1ec27cdb",
   "metadata": {},
   "outputs": [
    {
     "name": "stdout",
     "output_type": "stream",
     "text": [
      "True\n"
     ]
    }
   ],
   "source": [
    "import sys\n",
    "e = 256\n",
    "f = 256\n",
    "id(e)\n",
    "id(f)\n",
    "print(e is f )"
   ]
  },
  {
   "cell_type": "code",
   "execution_count": 21,
   "id": "adfd27df-28f6-463c-bea0-40a5eef8d4e9",
   "metadata": {},
   "outputs": [
    {
     "name": "stdout",
     "output_type": "stream",
     "text": [
      "False\n"
     ]
    }
   ],
   "source": [
    "import sys\n",
    "e = 256\n",
    "e = 1000\n",
    "id(e)\n",
    "id(e)\n",
    "print(e is f )"
   ]
  },
  {
   "cell_type": "code",
   "execution_count": 22,
   "id": "debaafdd-8efb-4ad6-a81a-15667aebc244",
   "metadata": {},
   "outputs": [
    {
     "name": "stdout",
     "output_type": "stream",
     "text": [
      "False\n"
     ]
    }
   ],
   "source": [
    "import sys\n",
    "a = 256\n",
    "a = 1000\n",
    "id(a)\n",
    "print(a is f)"
   ]
  },
  {
   "cell_type": "code",
   "execution_count": null,
   "id": "28e6ab8e-8a85-4078-bc14-8bec0a9f3cc4",
   "metadata": {},
   "outputs": [],
   "source": []
  }
 ],
 "metadata": {
  "kernelspec": {
   "display_name": "Python 3 (ipykernel)",
   "language": "python",
   "name": "python3"
  },
  "language_info": {
   "codemirror_mode": {
    "name": "ipython",
    "version": 3
   },
   "file_extension": ".py",
   "mimetype": "text/x-python",
   "name": "python",
   "nbconvert_exporter": "python",
   "pygments_lexer": "ipython3",
   "version": "3.13.6"
  }
 },
 "nbformat": 4,
 "nbformat_minor": 5
}
