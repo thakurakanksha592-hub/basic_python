{
 "cells": [
  {
   "cell_type": "code",
   "execution_count": 16,
   "id": "989578da-5bb2-4b33-a96e-88d4659fa85e",
   "metadata": {},
   "outputs": [
    {
     "name": "stdin",
     "output_type": "stream",
     "text": [
      "Enter n in range 1 to 26: 5\n"
     ]
    },
    {
     "name": "stdout",
     "output_type": "stream",
     "text": [
      "---------------------------------------------"
     ]
    }
   ],
   "source": [
    "n=int(input(\"Enter n in range 1 to 26:\"))\n",
    "for i in range((n*2-1)):\n",
    "    curr_i = i\n",
    "    if i>=n:\n",
    "        curr_i = 2 * n- 2- i\n",
    "    else:\n",
    "        curr_i = i\n",
    "\n",
    "        \n",
    "        c = chr(ord('a')+(n-1))\n",
    "        for j in range((n * 2 - 1)):\n",
    "            if j < (2*n-2)-2* curr_i:\n",
    "                print(\"-\",end=\"\")\n",
    "                c = chr(ord(c)-11)\n",
    "            else:\n",
    "                print(\"-\",end=\"\")"
   ]
  },
  {
   "cell_type": "code",
   "execution_count": null,
   "id": "6884f740-6f32-4ee5-a8bd-df147917ddd4",
   "metadata": {},
   "outputs": [],
   "source": []
  }
 ],
 "metadata": {
  "kernelspec": {
   "display_name": "Python 3 (ipykernel)",
   "language": "python",
   "name": "python3"
  },
  "language_info": {
   "codemirror_mode": {
    "name": "ipython",
    "version": 3
   },
   "file_extension": ".py",
   "mimetype": "text/x-python",
   "name": "python",
   "nbconvert_exporter": "python",
   "pygments_lexer": "ipython3",
   "version": "3.13.6"
  }
 },
 "nbformat": 4,
 "nbformat_minor": 5
}
