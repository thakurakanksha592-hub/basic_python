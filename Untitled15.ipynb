{
 "cells": [
  {
   "cell_type": "code",
   "execution_count": 1,
   "id": "241e406e-1e62-4165-8c4e-3056d12ef705",
   "metadata": {},
   "outputs": [
    {
     "name": "stdout",
     "output_type": "stream",
     "text": [
      "tuple: (10, 20, 30, 40)\n"
     ]
    }
   ],
   "source": [
    "my_tuple = (10,20,30,40)\n",
    "print(\"tuple:\",my_tuple)"
   ]
  },
  {
   "cell_type": "code",
   "execution_count": 2,
   "id": "48608571-6026-4df5-b168-a9694ad9ab90",
   "metadata": {},
   "outputs": [
    {
     "name": "stdout",
     "output_type": "stream",
     "text": [
      "first element: 10\n",
      "last element: 40\n"
     ]
    }
   ],
   "source": [
    "print(\"first element:\",my_tuple[0])\n",
    "print(\"last element:\",my_tuple[-1])"
   ]
  },
  {
   "cell_type": "code",
   "execution_count": 4,
   "id": "e69821b5-215b-494b-8861-c357fc3fd6d8",
   "metadata": {},
   "outputs": [
    {
     "name": "stdout",
     "output_type": "stream",
     "text": [
      "slice(index 1 to 3): (20, 30, 40)\n"
     ]
    }
   ],
   "source": [
    "print(\"slice(index 1 to 3):\",my_tuple[1:4])"
   ]
  },
  {
   "cell_type": "code",
   "execution_count": 6,
   "id": "586ddd72-8406-4804-9fe1-ea438e126d31",
   "metadata": {},
   "outputs": [
    {
     "name": "stdout",
     "output_type": "stream",
     "text": [
      "Error: 'tuple' object does not support item assignment\n"
     ]
    }
   ],
   "source": [
    "try:\n",
    "    my_tuple[0] = 100\n",
    "except TypeError as e:\n",
    "    print(\"Error:\",e)"
   ]
  },
  {
   "cell_type": "markdown",
   "id": "54eceb29-607d-452c-8c2c-cfd75ea1966a",
   "metadata": {},
   "source": [
    "mixed_tuple = (1,\"hello\",3.14,True)\n",
    "print(\"Mixed Tuple:\",mixed_tuple)"
   ]
  },
  {
   "cell_type": "code",
   "execution_count": null,
   "id": "4dd0e685-a9cb-4a9b-9942-ceeddf21ba2e",
   "metadata": {},
   "outputs": [],
   "source": []
  }
 ],
 "metadata": {
  "kernelspec": {
   "display_name": "Python 3 (ipykernel)",
   "language": "python",
   "name": "python3"
  },
  "language_info": {
   "codemirror_mode": {
    "name": "ipython",
    "version": 3
   },
   "file_extension": ".py",
   "mimetype": "text/x-python",
   "name": "python",
   "nbconvert_exporter": "python",
   "pygments_lexer": "ipython3",
   "version": "3.13.6"
  }
 },
 "nbformat": 4,
 "nbformat_minor": 5
}
