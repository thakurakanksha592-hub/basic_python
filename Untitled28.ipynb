{
 "cells": [
  {
   "cell_type": "code",
   "execution_count": 3,
   "id": "00912150-6fab-42d2-80ec-fe69e1102eb4",
   "metadata": {},
   "outputs": [
    {
     "name": "stdin",
     "output_type": "stream",
     "text": [
      "enter a number:  90\n"
     ]
    },
    {
     "name": "stdout",
     "output_type": "stream",
     "text": [
      "90 is not a palindrome.\n"
     ]
    }
   ],
   "source": [
    "num = int(input(\"enter a number: \"))\n",
    "original_num = num\n",
    "reversed_num = 0\n",
    "while num > 0:\n",
    "    digit = num%10\n",
    "    reversed_num = reversed_num*10+digit\n",
    "    reversed_num\n",
    "    num = num//10\n",
    "if original_num == reversed_num:\n",
    "        print(f\"{original_num} is a palindrome.\")\n",
    "else:\n",
    "        print(f\"{original_num} is not a palindrome.\")"
   ]
  },
  {
   "cell_type": "code",
   "execution_count": null,
   "id": "2dff82cd-3220-4cc4-adda-c7f8a827ebd6",
   "metadata": {},
   "outputs": [],
   "source": []
  }
 ],
 "metadata": {
  "kernelspec": {
   "display_name": "Python 3 (ipykernel)",
   "language": "python",
   "name": "python3"
  },
  "language_info": {
   "codemirror_mode": {
    "name": "ipython",
    "version": 3
   },
   "file_extension": ".py",
   "mimetype": "text/x-python",
   "name": "python",
   "nbconvert_exporter": "python",
   "pygments_lexer": "ipython3",
   "version": "3.13.6"
  }
 },
 "nbformat": 4,
 "nbformat_minor": 5
}
