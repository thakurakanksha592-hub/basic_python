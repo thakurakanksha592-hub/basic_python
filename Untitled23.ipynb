{
 "cells": [
  {
   "cell_type": "code",
   "execution_count": 1,
   "id": "88721eb0-ae7d-4113-aba0-53d596f85bd0",
   "metadata": {},
   "outputs": [
    {
     "name": "stdout",
     "output_type": "stream",
     "text": [
      "Sum of all elements: 15\n"
     ]
    }
   ],
   "source": [
    "nums = [1,2,3,4,5]\n",
    "total = 0\n",
    "for num in nums:\n",
    "    total += num\n",
    "print(\"Sum of all elements:\",total)"
   ]
  },
  {
   "cell_type": "code",
   "execution_count": 9,
   "id": "b575087b-607a-4085-bade-ff838255497c",
   "metadata": {},
   "outputs": [
    {
     "name": "stdin",
     "output_type": "stream",
     "text": [
      "enter an integer number 10\n"
     ]
    },
    {
     "name": "stdout",
     "output_type": "stream",
     "text": [
      "prime number up to 10 are:\n"
     ]
    }
   ],
   "source": [
    "n = int(input(\"enter an integer number\"))\n",
    "print(\"prime number up to\",n,\"are:\")\n",
    "for num in range(2,n+1):\n",
    "    is_prime = True\n",
    "    for i in range(2,int(num**0.5)+1):\n",
    "        if num%i ==0:\n",
    "            is_prime = False\n",
    "            break\n",
    "            if is_prime:\n",
    "                print(num,end='10')"
   ]
  },
  {
   "cell_type": "code",
   "execution_count": 11,
   "id": "8bc25472-1eab-4712-a64d-af92fc7bde4d",
   "metadata": {},
   "outputs": [
    {
     "name": "stdout",
     "output_type": "stream",
     "text": [
      "productof all elements: 1\n",
      "productof all elements: 2\n",
      "productof all elements: 6\n",
      "productof all elements: 24\n",
      "productof all elements: 120\n"
     ]
    }
   ],
   "source": [
    "num = [1,2,3,4,5]\n",
    "product = 1\n",
    "for num in nums:\n",
    "    product*=num\n",
    "    print(\"productof all elements:\",product)"
   ]
  },
  {
   "cell_type": "code",
   "execution_count": 14,
   "id": "7dabcdff-1978-4a8b-8837-c28f2123c783",
   "metadata": {},
   "outputs": [
    {
     "name": "stdout",
     "output_type": "stream",
     "text": [
      "number of even number: 2\n",
      "number of odd number: 1\n"
     ]
    }
   ],
   "source": [
    "nums = [1,2,3,4,5]\n",
    "even_count = 0\n",
    "odd_count = 0\n",
    "for num in nums:\n",
    "  if num%2==0:\n",
    "    even_count +=1\n",
    "else:\n",
    "    odd_count+=1\n",
    "    print(\"number of even number:\",even_count)\n",
    "    print(\"number of odd number:\",odd_count)\n"
   ]
  },
  {
   "cell_type": "code",
   "execution_count": null,
   "id": "fc5b315e-1f30-4d77-824e-e42f7752acb0",
   "metadata": {},
   "outputs": [],
   "source": []
  }
 ],
 "metadata": {
  "kernelspec": {
   "display_name": "Python 3 (ipykernel)",
   "language": "python",
   "name": "python3"
  },
  "language_info": {
   "codemirror_mode": {
    "name": "ipython",
    "version": 3
   },
   "file_extension": ".py",
   "mimetype": "text/x-python",
   "name": "python",
   "nbconvert_exporter": "python",
   "pygments_lexer": "ipython3",
   "version": "3.13.6"
  }
 },
 "nbformat": 4,
 "nbformat_minor": 5
}
