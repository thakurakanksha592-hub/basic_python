{
 "cells": [
  {
   "cell_type": "code",
   "execution_count": 1,
   "id": "ccea8ae0-e6a3-4656-95f8-46ab56ad7bad",
   "metadata": {},
   "outputs": [
    {
     "name": "stdin",
     "output_type": "stream",
     "text": [
      "enter any sentence or a word: akanksha thakur\n"
     ]
    },
    {
     "name": "stdout",
     "output_type": "stream",
     "text": [
      "15\n"
     ]
    }
   ],
   "source": [
    "str = input(\"enter any sentence or a word:\")\n",
    "print(len(str))"
   ]
  },
  {
   "cell_type": "code",
   "execution_count": 4,
   "id": "2ed926a6-fa8e-4e0e-954d-0987a964ee42",
   "metadata": {},
   "outputs": [
    {
     "name": "stdin",
     "output_type": "stream",
     "text": [
      "enter any sentence or a word: hello world \n"
     ]
    },
    {
     "name": "stdout",
     "output_type": "stream",
     "text": [
      "the string is of length: 12\n"
     ]
    }
   ],
   "source": [
    "str = input(\"enter any sentence or a word:\")\n",
    "count = 0\n",
    "for i in str:\n",
    "    count +=1\n",
    "print(\"the string is of length:\",count)"
   ]
  },
  {
   "cell_type": "code",
   "execution_count": null,
   "id": "da8faf75-809c-4654-b4cb-4473e9642f06",
   "metadata": {},
   "outputs": [],
   "source": []
  }
 ],
 "metadata": {
  "kernelspec": {
   "display_name": "Python 3 (ipykernel)",
   "language": "python",
   "name": "python3"
  },
  "language_info": {
   "codemirror_mode": {
    "name": "ipython",
    "version": 3
   },
   "file_extension": ".py",
   "mimetype": "text/x-python",
   "name": "python",
   "nbconvert_exporter": "python",
   "pygments_lexer": "ipython3",
   "version": "3.13.6"
  }
 },
 "nbformat": 4,
 "nbformat_minor": 5
}
