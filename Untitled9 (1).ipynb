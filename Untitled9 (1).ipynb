{
 "cells": [
  {
   "cell_type": "code",
   "execution_count": 14,
   "id": "69934e2e-99cc-4ee9-b7df-a9d523afe546",
   "metadata": {},
   "outputs": [
    {
     "name": "stdout",
     "output_type": "stream",
     "text": [
      "choose operation: + , - , * , / \n"
     ]
    },
    {
     "name": "stdin",
     "output_type": "stream",
     "text": [
      "enter first number: 34\n",
      "enter operator: *\n",
      "enter second number : 44\n"
     ]
    },
    {
     "name": "stdout",
     "output_type": "stream",
     "text": [
      "result: 1496.0\n"
     ]
    }
   ],
   "source": [
    "###### print(\"simple calculator\")\n",
    "print(\"choose operation: + , - , * , / \")\n",
    "num1 = float(input(\"enter first number:\"))\n",
    "op = input(\"enter operator:\")\n",
    "num2 = float(input(\"enter second number :\"))\n",
    "if op ==\"+\":\n",
    "    print(\"result:\" ,num1 + num2)\n",
    "elif op == \"-\":\n",
    "    print(\"result:\",num1 - num2)\n",
    "elif op == \"*\":\n",
    "    print(\"result:\" , num1 * num2)\n",
    "elif op == \"/\":\n",
    "   if num2 != 0: \n",
    "     print(\"result:\" , num1 / num2)\n",
    "else:\n",
    "    print(\"error 1division by zero.\")\n"
   ]
  },
  {
   "cell_type": "code",
   "execution_count": null,
   "id": "b85503e8-9382-4d15-aec8-b79abd2070c6",
   "metadata": {},
   "outputs": [],
   "source": []
  }
 ],
 "metadata": {
  "kernelspec": {
   "display_name": "Python 3 (ipykernel)",
   "language": "python",
   "name": "python3"
  },
  "language_info": {
   "codemirror_mode": {
    "name": "ipython",
    "version": 3
   },
   "file_extension": ".py",
   "mimetype": "text/x-python",
   "name": "python",
   "nbconvert_exporter": "python",
   "pygments_lexer": "ipython3",
   "version": "3.13.6"
  }
 },
 "nbformat": 4,
 "nbformat_minor": 5
}
