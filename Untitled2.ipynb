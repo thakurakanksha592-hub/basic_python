{
 "cells": [
  {
   "cell_type": "code",
   "execution_count": 1,
   "id": "a0847f10-cfdc-478f-aab7-3343a308092c",
   "metadata": {},
   "outputs": [
    {
     "name": "stdout",
     "output_type": "stream",
     "text": [
      "\n",
      "Normal pyramid\n",
      "          \n",
      "    *     \n",
      "    **    \n",
      "   ***    \n",
      "   ****   \n"
     ]
    }
   ],
   "source": [
    "print(\"\\nNormal pyramid\")\n",
    "for i in range(5):\n",
    "    x='*'\n",
    "    x=x*i\n",
    "    print(f'{x:^10}')"
   ]
  },
  {
   "cell_type": "code",
   "execution_count": 3,
   "id": "84624c23-f911-4899-a154-ecbaa4a03ceb",
   "metadata": {},
   "outputs": [
    {
     "name": "stdout",
     "output_type": "stream",
     "text": [
      "\n",
      "Inverted Pyramid\n",
      "\n",
      "  *****   \n",
      "   ****   \n",
      "   ***    \n",
      "    **    \n",
      "    *     \n"
     ]
    }
   ],
   "source": [
    "print(\"\\nInverted Pyramid\\n\")\n",
    "for i in range (5):\n",
    "    x='*'\n",
    "    x=x*(5-i)\n",
    "    print(f'{x:^10}')"
   ]
  },
  {
   "cell_type": "code",
   "execution_count": 5,
   "id": "10623e78-b4ae-4bf9-a52d-8c4a6a9b357c",
   "metadata": {},
   "outputs": [
    {
     "name": "stdout",
     "output_type": "stream",
     "text": [
      "\n",
      "Left sided pyramid\n",
      "          \n",
      "*         \n",
      "**        \n",
      "***       \n",
      "****      \n"
     ]
    }
   ],
   "source": [
    "print(\"\\nLeft sided pyramid\")\n",
    "for i in range(5):\n",
    "    x='*'\n",
    "    x=x*i\n",
    "    print(f'{x:<10}')"
   ]
  },
  {
   "cell_type": "code",
   "execution_count": 7,
   "id": "f24b3d49-4769-431b-8f22-e897e13a3918",
   "metadata": {},
   "outputs": [
    {
     "name": "stdout",
     "output_type": "stream",
     "text": [
      "\n",
      "Right sided pyramid\n",
      "          \n",
      "         *\n",
      "        **\n",
      "       ***\n",
      "      ****\n"
     ]
    }
   ],
   "source": [
    "print(\"\\nRight sided pyramid\")\n",
    "for i in range(5):\n",
    "    x='*'\n",
    "    x=x*i\n",
    "    print(f'{x:>10}')"
   ]
  },
  {
   "cell_type": "code",
   "execution_count": null,
   "id": "d37a6f76-4846-4033-91b4-2d615f922212",
   "metadata": {},
   "outputs": [],
   "source": []
  }
 ],
 "metadata": {
  "kernelspec": {
   "display_name": "Python 3 (ipykernel)",
   "language": "python",
   "name": "python3"
  },
  "language_info": {
   "codemirror_mode": {
    "name": "ipython",
    "version": 3
   },
   "file_extension": ".py",
   "mimetype": "text/x-python",
   "name": "python",
   "nbconvert_exporter": "python",
   "pygments_lexer": "ipython3",
   "version": "3.13.6"
  }
 },
 "nbformat": 4,
 "nbformat_minor": 5
}
