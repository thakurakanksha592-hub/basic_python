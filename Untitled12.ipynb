{
 "cells": [
  {
   "cell_type": "code",
   "execution_count": 5,
   "id": "1385b74f-b1a4-43a6-ba95-d708a405fe84",
   "metadata": {},
   "outputs": [
    {
     "name": "stdout",
     "output_type": "stream",
     "text": [
      "integer: 10 <class 'int'>\n"
     ]
    }
   ],
   "source": [
    "# python data type example\n",
    "x = 10\n",
    "print(\"integer:\",x, type(x))"
   ]
  },
  {
   "cell_type": "code",
   "execution_count": 7,
   "id": "5424171a-a06e-4c1b-945c-f3364417d78a",
   "metadata": {},
   "outputs": [
    {
     "name": "stdout",
     "output_type": "stream",
     "text": [
      "float: 10 <class 'float'>\n"
     ]
    }
   ],
   "source": [
    "#float\n",
    "y = 3.14\n",
    "print(\"float:\",x,type(y))"
   ]
  },
  {
   "cell_type": "code",
   "execution_count": 8,
   "id": "b5dfb8c6-268f-49ff-bc5f-01c49208446d",
   "metadata": {},
   "outputs": [
    {
     "name": "stdout",
     "output_type": "stream",
     "text": [
      "complex: (2+3j) <class 'complex'>\n"
     ]
    }
   ],
   "source": [
    "#complex\n",
    "z = 2+3j\n",
    "print(\"complex:\",z,type(z))"
   ]
  },
  {
   "cell_type": "code",
   "execution_count": 9,
   "id": "c00fb543-5044-4ea8-aa81-394e89eec0db",
   "metadata": {},
   "outputs": [
    {
     "name": "stdout",
     "output_type": "stream",
     "text": [
      "string: akanksha <class 'str'>\n"
     ]
    }
   ],
   "source": [
    "#string\n",
    "name = \"akanksha\"\n",
    "print(\"string:\",name,type(name))"
   ]
  },
  {
   "cell_type": "code",
   "execution_count": 11,
   "id": "3b294526-10f4-4014-9f16-997bb6dc28eb",
   "metadata": {},
   "outputs": [
    {
     "name": "stdout",
     "output_type": "stream",
     "text": [
      "boolean: True <class 'bool'>\n"
     ]
    }
   ],
   "source": [
    "#boolean\n",
    "is_active = True\n",
    "print(\"boolean:\",is_active,type(is_active))"
   ]
  },
  {
   "cell_type": "code",
   "execution_count": 13,
   "id": "16322e3c-626e-4c5d-89a0-1b3523af7149",
   "metadata": {},
   "outputs": [
    {
     "name": "stdout",
     "output_type": "stream",
     "text": [
      "list: ['apple', 'banana', 'mango'] <class 'list'>\n"
     ]
    }
   ],
   "source": [
    "#list\n",
    "fruits = [\"apple\",\"banana\",\"mango\"]\n",
    "print(\"list:\",fruits,type(fruits))"
   ]
  },
  {
   "cell_type": "code",
   "execution_count": 14,
   "id": "8c4c2163-fa03-4bf8-81dd-f94a70b281e0",
   "metadata": {},
   "outputs": [
    {
     "name": "stdout",
     "output_type": "stream",
     "text": [
      "Tuple: (10, 20) <class 'tuple'>\n"
     ]
    }
   ],
   "source": [
    "#Tuple\n",
    "coordinates = (10, 20)\n",
    "print(\"Tuple:\",coordinates,type(coordinates))"
   ]
  },
  {
   "cell_type": "raw",
   "id": "0f88950b-96cc-415d-a5f4-5ccad4862a81",
   "metadata": {},
   "source": [
    "#Set \n",
    "unique_number = {1,2,3,3,4}\n",
    "print(\"set:\",unique_number,type(unique_number))"
   ]
  },
  {
   "cell_type": "code",
   "execution_count": 16,
   "id": "352a97f6-ec58-49e1-b05f-b5927232c6e8",
   "metadata": {},
   "outputs": [
    {
     "name": "stdout",
     "output_type": "stream",
     "text": [
      "Dictionary: {'name': 'Akanksha', 'age': 19, 'course': 'python'} <class 'dict'>\n"
     ]
    }
   ],
   "source": [
    "#Dictionary\n",
    "student = {\"name\":\"Akanksha\",\"age\":19,\"course\":\"python\"}\n",
    "print(\"Dictionary:\",student,type(student))"
   ]
  },
  {
   "cell_type": "code",
   "execution_count": null,
   "id": "138e7f7c-c55c-4962-8ea0-f2865265c088",
   "metadata": {},
   "outputs": [],
   "source": []
  }
 ],
 "metadata": {
  "kernelspec": {
   "display_name": "Python 3 (ipykernel)",
   "language": "python",
   "name": "python3"
  },
  "language_info": {
   "codemirror_mode": {
    "name": "ipython",
    "version": 3
   },
   "file_extension": ".py",
   "mimetype": "text/x-python",
   "name": "python",
   "nbconvert_exporter": "python",
   "pygments_lexer": "ipython3",
   "version": "3.13.6"
  }
 },
 "nbformat": 4,
 "nbformat_minor": 5
}
