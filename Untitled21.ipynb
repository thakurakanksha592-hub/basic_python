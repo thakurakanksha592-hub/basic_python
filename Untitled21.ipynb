{
 "cells": [
  {
   "cell_type": "code",
   "execution_count": 1,
   "id": "898cef78-ae25-430b-9749-7615e899a8f4",
   "metadata": {},
   "outputs": [
    {
     "name": "stdin",
     "output_type": "stream",
     "text": [
      "Enter your Name:  Akanksha thakur\n"
     ]
    },
    {
     "name": "stdout",
     "output_type": "stream",
     "text": [
      "User Name: Akanksha thakur\n"
     ]
    }
   ],
   "source": [
    "name = input(\"Enter your Name: \")\n",
    "print(\"User Name:\", name)"
   ]
  },
  {
   "cell_type": "code",
   "execution_count": 2,
   "id": "16a7bbbd-c515-48fc-95f8-9ae91dd75431",
   "metadata": {},
   "outputs": [
    {
     "name": "stdin",
     "output_type": "stream",
     "text": [
      " 3\n",
      " 4\n"
     ]
    },
    {
     "name": "stdout",
     "output_type": "stream",
     "text": [
      "a =  3\n",
      "b =  4\n"
     ]
    }
   ],
   "source": [
    "a = int(input())\n",
    "b = int(input())\n",
    "ist = [a,b]\n",
    "print(\"a = \",ist[0])\n",
    "print(\"b = \",ist[1])"
   ]
  },
  {
   "cell_type": "code",
   "execution_count": 3,
   "id": "2a447da3-3c14-494c-9729-681c93ddbf4b",
   "metadata": {},
   "outputs": [
    {
     "name": "stdin",
     "output_type": "stream",
     "text": [
      "enter a number 43\n"
     ]
    },
    {
     "name": "stdout",
     "output_type": "stream",
     "text": [
      "odd\n"
     ]
    }
   ],
   "source": [
    "num = int(input(\"enter a number\"))\n",
    "if num % 2 == 0:\n",
    "    print(\"even\")\n",
    "else:\n",
    "    print(\"odd\")"
   ]
  },
  {
   "cell_type": "code",
   "execution_count": 9,
   "id": "ba6df5cb-6bd4-4e1d-9548-04037cc8538b",
   "metadata": {},
   "outputs": [
    {
     "name": "stdin",
     "output_type": "stream",
     "text": [
      "enter a number 4\n"
     ]
    },
    {
     "name": "stdout",
     "output_type": "stream",
     "text": [
      "factorial = = 1\n",
      "factorial = = 1\n",
      "factorial = = 1\n",
      "factorial = = 1\n"
     ]
    }
   ],
   "source": [
    "n = int(input(\"enter a number\"))\n",
    "fact = 1\n",
    "for i in range(1,n+1):\n",
    "    print(\"factorial = =\",fact)"
   ]
  },
  {
   "cell_type": "code",
   "execution_count": null,
   "id": "b2be59f0-e378-4738-b050-74c8347374d2",
   "metadata": {},
   "outputs": [],
   "source": []
  }
 ],
 "metadata": {
  "kernelspec": {
   "display_name": "Python 3 (ipykernel)",
   "language": "python",
   "name": "python3"
  },
  "language_info": {
   "codemirror_mode": {
    "name": "ipython",
    "version": 3
   },
   "file_extension": ".py",
   "mimetype": "text/x-python",
   "name": "python",
   "nbconvert_exporter": "python",
   "pygments_lexer": "ipython3",
   "version": "3.13.6"
  }
 },
 "nbformat": 4,
 "nbformat_minor": 5
}
